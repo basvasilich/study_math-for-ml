{
 "cells": [
  {
   "cell_type": "markdown",
   "metadata": {},
   "source": [
    "# Градиентный бустинг своими руками\n",
    "\n",
    "**Внимание:** в тексте задания произошли изменения - поменялось число деревьев (теперь 50), правило изменения величины шага в задании 3 и добавился параметр `random_state` у решающего дерева. Правильные ответы не поменялись, но теперь их проще получить. Также исправлена опечатка в функции `gbm_predict`.\n",
    "\n",
    "В этом задании будет использоваться датасет `boston` из `sklearn.datasets`. Оставьте последние 25% объектов для контроля качества, разделив `X` и `y` на `X_train`, `y_train` и `X_test`, `y_test`.\n",
    "\n",
    "Целью задания будет реализовать простой вариант градиентного бустинга над регрессионными деревьями для случая квадратичной функции потерь."
   ]
  },
  {
   "cell_type": "code",
   "execution_count": 11,
   "metadata": {},
   "outputs": [],
   "source": [
    "# import libs\n",
    "from sklearn import datasets, metrics\n",
    "from sklearn.model_selection import train_test_split\n",
    "from sklearn.linear_model import LinearRegression\n",
    "from sklearn.tree import DecisionTreeRegressor\n",
    "from sklearn.ensemble import GradientBoostingRegressor\n",
    "from matplotlib import pyplot as plt\n",
    "import numpy as np\n",
    "import pandas as pd\n",
    "import pylab"
   ]
  },
  {
   "cell_type": "code",
   "execution_count": 7,
   "metadata": {},
   "outputs": [
    {
     "name": "stdout",
     "output_type": "stream",
     "text": [
      "X.shape (506, 13)\n",
      "X_train.shape (379, 13)\n",
      "X_test.shape (127, 13)\n",
      "y_train.shape (379,)\n",
      "y_test.shape (127,)\n"
     ]
    }
   ],
   "source": [
    "X, y = datasets.load_boston(return_X_y=True)\n",
    "print(\"X.shape\", X.shape)\n",
    "\n",
    "(X_train, X_test, y_train, y_test) = train_test_split(X, y, test_size=0.25, random_state=0, shuffle=False)\n",
    "print(\"X_train.shape\", X_train.shape)\n",
    "print(\"X_test.shape\", X_test.shape)\n",
    "print(\"y_train.shape\", y_train.shape)\n",
    "print(\"y_test.shape\", y_test.shape)"
   ]
  },
  {
   "cell_type": "code",
   "execution_count": 8,
   "metadata": {},
   "outputs": [],
   "source": [
    "def write_answer(index, val):\n",
    "    with open(f\"ans_2_{str(index)}.txt\", \"w\") as fout:\n",
    "        fout.write(str(val))"
   ]
  },
  {
   "cell_type": "markdown",
   "metadata": {},
   "source": [
    "## Задание 1\n",
    "\n",
    "Как вы уже знаете из лекций, **бустинг** - это метод построения композиций базовых алгоритмов с помощью последовательного добавления к текущей композиции нового алгоритма с некоторым коэффициентом. \n",
    "\n",
    "Градиентный бустинг обучает каждый новый алгоритм так, чтобы он приближал антиградиент ошибки по ответам композиции на обучающей выборке. Аналогично минимизации функций методом градиентного спуска, в градиентном бустинге мы подправляем композицию, изменяя алгоритм в направлении антиградиента ошибки.\n",
    "\n",
    "Воспользуйтесь формулой из лекций, задающей ответы на обучающей выборке, на которые нужно обучать новый алгоритм (фактически это лишь чуть более подробно расписанный градиент от ошибки), и получите частный ее случай, если функция потерь `L` - квадрат отклонения ответа композиции `a(x)` от правильного ответа `y` на данном `x`.\n",
    "\n",
    "Если вы давно не считали производную самостоятельно, вам поможет таблица производных элементарных функций (которую несложно найти в интернете) и правило дифференцирования сложной функции. После дифференцирования квадрата у вас возникнет множитель 2 — т.к. нам все равно предстоит выбирать коэффициент, с которым будет добавлен новый базовый алгоритм, проигноируйте этот множитель при дальнейшем построении алгоритма."
   ]
  },
  {
   "cell_type": "markdown",
   "metadata": {
    "collapsed": true
   },
   "source": [
    "$L(y, z) = (y - z)^2$\n",
    "\n",
    "$L'_z(y, z) = 2(z - y)$\n",
    "\n",
    "$(z - y)$"
   ]
  },
  {
   "cell_type": "markdown",
   "metadata": {},
   "source": [
    "## Задание 2\n",
    "\n",
    "Заведите массив для объектов `DecisionTreeRegressor` (будем их использовать в качестве базовых алгоритмов) и для вещественных чисел (это будут коэффициенты перед базовыми алгоритмами). \n",
    "\n",
    "В цикле от обучите последовательно 50 решающих деревьев с параметрами `max_depth=5` и `random_state=42` (остальные параметры - по умолчанию). В бустинге зачастую используются сотни и тысячи деревьев, но мы ограничимся 50, чтобы алгоритм работал быстрее, и его было проще отлаживать (т.к. цель задания разобраться, как работает метод). Каждое дерево должно обучаться на одном и том же множестве объектов, но ответы, которые учится прогнозировать дерево, будут меняться в соответствие с полученным в задании 1 правилом. \n",
    "\n",
    "Попробуйте для начала всегда брать коэффициент равным 0.9. Обычно оправдано выбирать коэффициент значительно меньшим - порядка 0.05 или 0.1, но т.к. в нашем учебном примере на стандартном датасете будет всего 50 деревьев, возьмем для начала шаг побольше.\n",
    "\n",
    "В процессе реализации обучения вам потребуется функция, которая будет вычислять прогноз построенной на данный момент композиции деревьев на выборке `X`:\n",
    "\n",
    "```\n",
    "def gbm_predict(X):\n",
    "    return [sum([coeff * algo.predict([x])[0] for algo, coeff in zip(base_algorithms_list, coefficients_list)]) for x in X]\n",
    "(считаем, что base_algorithms_list - список с базовыми алгоритмами, coefficients_list - список с коэффициентами перед алгоритмами)\n",
    "```\n",
    "\n",
    "Эта же функция поможет вам получить прогноз на контрольной выборке и оценить качество работы вашего алгоритма с помощью `mean_squared_error` в `sklearn.metrics`. \n",
    "\n",
    "Возведите результат в степень 0.5, чтобы получить `RMSE`. Полученное значение `RMSE` — **ответ в пункте 2**."
   ]
  },
  {
   "cell_type": "code",
   "execution_count": 9,
   "metadata": {},
   "outputs": [],
   "source": [
    "def gbm_predict(X, base_algorithms_list, coefficients_list):\n",
    "    return [sum([coeff * algo.predict([x])[0] for algo, coeff in zip(base_algorithms_list, coefficients_list)]) for x in X]"
   ]
  },
  {
   "cell_type": "code",
   "execution_count": null,
   "metadata": {},
   "outputs": [],
   "source": [
    "base_algorithms_list_1 = []\n",
    "coefficients_list_1 = []\n",
    "train_scores_1 = []\n",
    "test_scores_1 = []\n",
    "\n",
    "\n",
    "def make_regresssor_1(X, y, coef):\n",
    "    regr = DecisionTreeRegressor(max_depth=5, random_state=42)\n",
    "    base_algorithms_list_1.append(regr.fit(X, y))\n",
    "    coefficients_list_1.append(coef)\n",
    "    \n",
    "make_regresssor_1(X_train, y_train, 0.9)    \n",
    "    \n",
    "for i in range(1, 50):\n",
    "    make_regresssor_1(X_train, y_train - gbm_predict(X_train, base_algorithms_list_1, coefficients_list_1), 0.9)\n",
    "    train_scores_1.append(metrics.mean_squared_error(y_train, gbm_predict(X_train, base_algorithms_list_1, coefficients_list_1)))\n",
    "    test_scores_1.append(metrics.mean_squared_error(y_test, gbm_predict(X_test, base_algorithms_list_1, coefficients_list_1)))\n",
    "\n",
    "    \n",
    "pylab.plot(np.arange(1, 50, 1), train_scores_1)   \n",
    "pylab.plot(np.arange(1, 50, 1), test_scores_1)  \n",
    "pylab.xlabel('number of trees')\n",
    "pylab.ylabel('MSE')"
   ]
  },
  {
   "cell_type": "code",
   "execution_count": null,
   "metadata": {},
   "outputs": [],
   "source": [
    "ans_2 = metrics.mean_squared_error(y_test, gbm_predict(X_test, base_algorithms_list_1, coefficients_list_1))**0.5\n",
    "print(\"RMSE\", ans_2)\n",
    "\n",
    "write_answer(2, ans_2)"
   ]
  },
  {
   "cell_type": "markdown",
   "metadata": {},
   "source": [
    "## Задание 3\n",
    "\n",
    "Вас может также беспокоить, что двигаясь с постоянным шагом, вблизи минимума ошибки ответы на обучающей выборке меняются слишком резко, перескакивая через минимум. \n",
    "\n",
    "Попробуйте уменьшать вес перед каждым алгоритмом с каждой следующей итерацией по формуле `0.9 / (1.0 + i)`, где `i` - номер итерации (от 0 до 49). Используйте качество работы алгоритма как **ответ в пункте 3**. \n",
    "\n",
    "В реальности часто применяется следующая стратегия выбора шага: как только выбран алгоритм, подберем коэффициент перед ним численным методом оптимизации таким образом, чтобы отклонение от правильных ответов было минимальным. Мы не будем предлагать вам реализовать это для выполнения задания, но рекомендуем попробовать разобраться с такой стратегией и реализовать ее при случае для себя."
   ]
  },
  {
   "cell_type": "code",
   "execution_count": null,
   "metadata": {},
   "outputs": [],
   "source": [
    "base_algorithms_list_2 = []\n",
    "coefficients_list_2 = []\n",
    "train_scores_2 = []\n",
    "test_scores_2 = []\n",
    "\n",
    "\n",
    "def make_regresssor_2(X, y, coef):\n",
    "    regr = DecisionTreeRegressor(max_depth=5, random_state=42)\n",
    "    base_algorithms_list_2.append(regr.fit(X, y))\n",
    "    coefficients_list_2.append(coef)\n",
    "    \n",
    "make_regresssor_2(X_train, y_train, 0.9)    \n",
    "    \n",
    "for i in range(1, 50):\n",
    "    make_regresssor_2(X_train, y_train - gbm_predict(X_train, base_algorithms_list_2, coefficients_list_2), 0.9 / (1.0 + i))\n",
    "    train_scores_2.append(metrics.mean_squared_error(y_train, gbm_predict(X_train, base_algorithms_list_2, coefficients_list_2)))\n",
    "    test_scores_2.append(metrics.mean_squared_error(y_test, gbm_predict(X_test, base_algorithms_list_2, coefficients_list_2)))\n",
    "\n",
    "    \n",
    "pylab.plot(np.arange(1, 50, 1), train_scores_2)   \n",
    "pylab.plot(np.arange(1, 50, 1), test_scores_2)  \n",
    "pylab.xlabel('number of trees')\n",
    "pylab.ylabel('MSE')"
   ]
  },
  {
   "cell_type": "code",
   "execution_count": null,
   "metadata": {},
   "outputs": [],
   "source": [
    "ans_3 = metrics.mean_squared_error(y_test, gbm_predict(X_test, base_algorithms_list_2, coefficients_list_2))**0.5\n",
    "print(\"RMSE\", ans_3)\n",
    "\n",
    "write_answer(3, ans_3)"
   ]
  },
  {
   "cell_type": "markdown",
   "metadata": {},
   "source": [
    "## Задание 4\n",
    "\n",
    "Реализованный вами метод - градиентный бустинг над деревьями - очень популярен в машинном обучении. Он представлен как в самой библиотеке `sklearn`, так и в сторонней библиотеке `XGBoost`, которая имеет свой питоновский интерфейс. На практике `XGBoost` работает заметно лучше `GradientBoostingRegressor` из `sklearn`, но для этого задания вы можете использовать любую реализацию. \n",
    "\n",
    "Исследуйте, переобучается ли градиентный бустинг с ростом числа итераций (и подумайте, почему), а также с ростом глубины деревьев. На основе наблюдений выпишите через пробел номера правильных из приведенных ниже утверждений в порядке возрастания номера (это будет **ответ в п.4**):\n",
    "\n",
    "     2. С увеличением числа деревьев, начиная с некоторого момента, градиентный бустинг начинает переобучаться.\n",
    "\n",
    "    3. С ростом глубины деревьев, начиная с некоторого момента, качество работы градиентного бустинга на тестовой выборке начинает ухудшаться."
   ]
  },
  {
   "cell_type": "code",
   "execution_count": null,
   "metadata": {},
   "outputs": [],
   "source": [
    "def make_gbr_mse_est(n_estimators):\n",
    "    clf = GradientBoostingRegressor(n_estimators=n_estimators)\n",
    "    clf.fit(X_train, y_train)\n",
    "    return metrics.mean_squared_error(y_test, clf.predict(X_test)), metrics.mean_squared_error(y_train, clf.predict(X_train))\n",
    "\n",
    "def make_gbr_mse_d(max_depth):\n",
    "    clf = GradientBoostingRegressor(max_depth=max_depth)\n",
    "    clf.fit(X_train, y_train)\n",
    "    return metrics.mean_squared_error(y_test, clf.predict(X_test)), metrics.mean_squared_error(y_train, clf.predict(X_train))\n",
    "\n",
    "x_est = np.arange(5, 200, 5)\n",
    "y_est = [make_gbr_mse_est(x) for x in x_est]\n",
    "x_d = np.arange(1, 100, 1)\n",
    "y_d = [make_gbr_mse_d(x) for x in x_d]\n",
    "\n",
    "pylab.plot(x_est, [y_test for y_test, y_train in y_est], label='n_estimators test')   \n",
    "pylab.plot(x_est, [y_train for y_est_test, y_train in y_est], label='n_estimators train') \n",
    "pylab.plot(x_d, [y_test for y_test, y_train in y_d],  label='max_depth test')\n",
    "pylab.plot(x_d, [y_train for y_test, y_train in y_d], label='max_depth train')\n",
    "pylab.legend()"
   ]
  },
  {
   "cell_type": "code",
   "execution_count": null,
   "metadata": {},
   "outputs": [],
   "source": [
    "write_answer(4, \"2 3\")"
   ]
  },
  {
   "cell_type": "markdown",
   "metadata": {},
   "source": [
    "## Задание 5\n",
    "\n",
    "Сравните получаемое с помощью градиентного бустинга качество с качеством работы линейной регрессии. \n",
    "\n",
    "Для этого обучите `LinearRegression` из `sklearn.linear_model` (с параметрами по умолчанию) на обучающей выборке и оцените для прогнозов полученного алгоритма на тестовой выборке `RMSE`. Полученное качество - ответ в **пункте 5**. \n",
    "\n",
    "В данном примере качество работы простой модели должно было оказаться хуже, но не стоит забывать, что так бывает не всегда. В заданиях к этому курсу вы еще встретите пример обратной ситуации."
   ]
  },
  {
   "cell_type": "code",
   "execution_count": null,
   "metadata": {},
   "outputs": [],
   "source": [
    "clf = LinearRegression()\n",
    "clf.fit(X_train, y_train)\n",
    "\n",
    "ans_5 = metrics.mean_squared_error(y_test, clf.predict(X_test))** 0.5\n",
    "\n",
    "print(\"RMSE\", ans_5)\n",
    "\n",
    "write_answer(5, ans_5)"
   ]
  },
  {
   "cell_type": "code",
   "execution_count": null,
   "metadata": {},
   "outputs": [],
   "source": []
  },
  {
   "cell_type": "code",
   "execution_count": null,
   "metadata": {},
   "outputs": [],
   "source": []
  }
 ],
 "metadata": {
  "kernelspec": {
   "display_name": "Python 3",
   "language": "python",
   "name": "python3"
  },
  "language_info": {
   "codemirror_mode": {
    "name": "ipython",
    "version": 3
   },
   "file_extension": ".py",
   "mimetype": "text/x-python",
   "name": "python",
   "nbconvert_exporter": "python",
   "pygments_lexer": "ipython3",
   "version": "3.7.4"
  }
 },
 "nbformat": 4,
 "nbformat_minor": 1
}
