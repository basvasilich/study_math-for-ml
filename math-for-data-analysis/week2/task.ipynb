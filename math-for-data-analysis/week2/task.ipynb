{
 "cells": [
  {
   "cell_type": "code",
   "execution_count": 9,
   "metadata": {},
   "outputs": [],
   "source": [
    "import re\n",
    "\n",
    "f = open('sentences.txt', 'r')\n",
    "lines_count = 22\n",
    "word_indexes = 0\n",
    "words = {}\n",
    "result = []\n",
    "\n",
    "for line_index, line in enumerate(f):\n",
    "    line = line.lower()\n",
    "    line_set_raw = re.split('[^a-z\\']', line)\n",
    "    for word in line_set_raw:\n",
    "        if word != '' and word in words:\n",
    "            d, counts = words[word]\n",
    "            counts[line_index] += 1\n",
    "            words[word] = (d, counts)\n",
    "        elif word != '':\n",
    "            counts = [0]* lines_count \n",
    "            counts[line_index] = 1\n",
    "            words[word] = (word_indexes, counts)\n",
    "            word_indexes += 1          \n",
    "\n",
    "for i in range(lines_count):\n",
    "    result.append([0] * word_indexes)\n",
    "    for word in words:\n",
    "        d, counts = words[word]\n",
    "        result[i][int(d)] = counts[i]    "
   ]
  },
  {
   "cell_type": "code",
   "execution_count": 12,
   "metadata": {},
   "outputs": [
    {
     "data": {
      "text/plain": [
       "[0,\n",
       " 0.9527544408738466,\n",
       " 0.8644738145642124,\n",
       " 0.8951715163278082,\n",
       " 0.7770887149698589,\n",
       " 0.9402385695332803,\n",
       " 0.7327387580875756,\n",
       " 0.9258750683338899,\n",
       " 0.884272487528431,\n",
       " 0.9055088817476932,\n",
       " 0.8328165362273942,\n",
       " 0.8804771390665607,\n",
       " 0.8396432548525454,\n",
       " 0.8703592552895671,\n",
       " 0.8740118423302576,\n",
       " 0.9442721787424647,\n",
       " 0.8406361854220809,\n",
       " 0.9560625224836253,\n",
       " 0.9442721787424647,\n",
       " 0.8885443574849294,\n",
       " 0.8396432548525454,\n",
       " 0.820715708599841]"
      ]
     },
     "execution_count": 12,
     "metadata": {},
     "output_type": "execute_result"
    }
   ],
   "source": [
    "from scipy.spatial import distance\n",
    "\n",
    "distancies = [0] * lines_count\n",
    "\n",
    "for i in range(1, len(result)):\n",
    "    distancies[i] = distance.cosine(result[0], result[i])  \n",
    "    \n",
    "distancies"
   ]
  },
  {
   "cell_type": "code",
   "execution_count": 15,
   "metadata": {},
   "outputs": [
    {
     "name": "stdout",
     "output_type": "stream",
     "text": [
      "6\n",
      "4\n"
     ]
    }
   ],
   "source": [
    "first_max = 1\n",
    "second_max = 1\n",
    "for index, item in enumerate(distancies):\n",
    "    if item <= distancies[first_max] and index > 0:\n",
    "        second_max = first_max\n",
    "        first_max = index\n",
    "    elif item <= distancies[second_max] and index > 0:\n",
    "        second_max = index\n",
    "        \n",
    "print(first_max)\n",
    "print(second_max)"
   ]
  },
  {
   "cell_type": "code",
   "execution_count": 1,
   "metadata": {},
   "outputs": [
    {
     "data": {
      "image/png": "[encoded data removed]",
      "text/plain": [
       "<Figure size 432x288 with 1 Axes>"
      ]
     },
     "metadata": {
      "needs_background": "light"
     },
     "output_type": "display_data"
    }
   ],
   "source": [
    "%matplotlib inline\n",
    "import numpy as np\n",
    "import math\n",
    "import matplotlib as plt\n",
    "def f(x):\n",
    "   return math.sin(x / 5) * math.exp(x / 10) + 5 * math.exp(-x / 2)\n",
    "\n",
    "x_init = np.arange(1, 15, 0.1)\n",
    "y_init = []\n",
    "y_result = []\n",
    "\n",
    "for i in x_init:\n",
    "    y_init.append(f(i))\n",
    "    \n",
    "plt.pyplot.plot(x_init, y_init)\n",
    "plt.pyplot.show()"
   ]
  },
  {
   "cell_type": "code",
   "execution_count": 2,
   "metadata": {},
   "outputs": [
    {
     "data": {
      "text/plain": [
       "[<matplotlib.lines.Line2D at 0x621e14c10>]"
      ]
     },
     "execution_count": 2,
     "metadata": {},
     "output_type": "execute_result"
    },
    {
     "data": {
      "image/png": "[encoded data removed]",
      "text/plain": [
       "<Figure size 432x288 with 1 Axes>"
      ]
     },
     "metadata": {
      "needs_background": "light"
     },
     "output_type": "display_data"
    }
   ],
   "source": [
    "from scipy import linalg\n",
    "x = [[1, 15], [1, 8, 15], [1, 4 , 10 ,15]]\n",
    "\n",
    "def make_A(a):\n",
    "    result = []\n",
    "    for index, item in enumerate(a):\n",
    "        result.append([])\n",
    "        for i in range(len(a)):\n",
    "            result[index].append(item**i)\n",
    "    return result\n",
    "\n",
    "def make_b(a):\n",
    "    result = []\n",
    "    for item in a:\n",
    "        result.append(f(item))\n",
    "    return result\n",
    "\n",
    "result = []\n",
    "for x_item in x:\n",
    "    result.append(linalg.solve(make_A(x_item), make_b(x_item)))\n",
    "\n",
    "def f_result(x):\n",
    "    return result[2][0] + result[2][1] * x  + result[2][2] * (x**2)  + result[2][3] * (x**3)\n",
    "\n",
    "for i in x_init:\n",
    "    y_result.append(f_result(i))\n",
    "    \n",
    "plt.pyplot.plot(x_init, y_result)"
   ]
  },
  {
   "cell_type": "code",
   "execution_count": 3,
   "metadata": {},
   "outputs": [
    {
     "data": {
      "text/plain": [
       "array([ 4.36264154, -1.29552587,  0.19333685, -0.00823565])"
      ]
     },
     "execution_count": 3,
     "metadata": {},
     "output_type": "execute_result"
    }
   ],
   "source": [
    "result[2]"
   ]
  },
  {
   "cell_type": "code",
   "execution_count": null,
   "metadata": {},
   "outputs": [],
   "source": []
  }
 ],
 "metadata": {
  "kernelspec": {
   "display_name": "Python 3",
   "language": "python",
   "name": "python3"
  },
  "language_info": {
   "codemirror_mode": {
    "name": "ipython",
    "version": 3
   },
   "file_extension": ".py",
   "mimetype": "text/x-python",
   "name": "python",
   "nbconvert_exporter": "python",
   "pygments_lexer": "ipython3",
   "version": "3.7.4"
  }
 },
 "nbformat": 4,
 "nbformat_minor": 2
}
