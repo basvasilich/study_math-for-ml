{
 "cells": [
  {
   "cell_type": "code",
   "execution_count": 1,
   "metadata": {},
   "outputs": [],
   "source": [
    "import re\n",
    "\n",
    "f = open('sentences.txt', 'r')\n",
    "lines_count = 22\n",
    "word_indexes = 0\n",
    "words = {}\n",
    "result = []\n",
    "\n",
    "for line_index, line in enumerate(f):\n",
    "    line = line.lower()\n",
    "    line_set_raw = re.split('[^a-z\\']', line)\n",
    "    for word in line_set_raw:\n",
    "        if word != '' and word in words:\n",
    "            d, counts = words[word]\n",
    "            counts[line_index] += 1\n",
    "            words[word] = (d, counts)\n",
    "        elif word != '':\n",
    "            counts = [0]* lines_count \n",
    "            counts[line_index] = 1\n",
    "            words[word] = (word_indexes, counts)\n",
    "            word_indexes += 1          \n",
    "\n",
    "for i in range(lines_count):\n",
    "    result.append([0] * word_indexes)\n",
    "    for word in words:\n",
    "        d, counts = words[word]\n",
    "        result[i][int(d)] = counts[i]    "
   ]
  },
  {
   "cell_type": "code",
   "execution_count": 2,
   "metadata": {},
   "outputs": [
    {
     "data": {
      "text/plain": [
       "[0,\n",
       " 0.9527544408738466,\n",
       " 0.8644738145642124,\n",
       " 0.8951715163278082,\n",
       " 0.7770887149698589,\n",
       " 0.9402385695332803,\n",
       " 0.7327387580875756,\n",
       " 0.9258750683338899,\n",
       " 0.884272487528431,\n",
       " 0.9055088817476932,\n",
       " 0.8328165362273942,\n",
       " 0.8804771390665607,\n",
       " 0.8396432548525454,\n",
       " 0.8703592552895671,\n",
       " 0.8740118423302576,\n",
       " 0.9442721787424647,\n",
       " 0.8406361854220809,\n",
       " 0.9560625224836253,\n",
       " 0.9442721787424647,\n",
       " 0.8885443574849294,\n",
       " 0.8396432548525454,\n",
       " 0.820715708599841]"
      ]
     },
     "execution_count": 2,
     "metadata": {},
     "output_type": "execute_result"
    }
   ],
   "source": [
    "from scipy.spatial import distance\n",
    "\n",
    "distancies = [0] * lines_count\n",
    "\n",
    "for i in range(1, len(result)):\n",
    "    distancies[i] = distance.cosine(result[0], result[i])  \n",
    "    \n",
    "distancies"
   ]
  },
  {
   "cell_type": "code",
   "execution_count": 7,
   "metadata": {},
   "outputs": [
    {
     "name": "stdout",
     "output_type": "stream",
     "text": [
      "17\n",
      "1\n"
     ]
    }
   ],
   "source": [
    "first_max = 0\n",
    "second_max = 0\n",
    "for index, item in enumerate(distancies):\n",
    "    if item >= distancies[first_max]:\n",
    "        second_max = first_max\n",
    "        first_max = index\n",
    "    elif item >= distancies[second_max]:\n",
    "        second_max = index\n",
    "        \n",
    "print(first_max)\n",
    "print(second_max)"
   ]
  },
  {
   "cell_type": "code",
   "execution_count": null,
   "metadata": {},
   "outputs": [],
   "source": [
    "def f(x):\n",
    "   return sin(x / 5) * exp(x / 10) + 5 * exp(-x / 2)\n",
    "\n"
   ]
  }
 ],
 "metadata": {
  "kernelspec": {
   "display_name": "Python 3",
   "language": "python",
   "name": "python3"
  },
  "language_info": {
   "codemirror_mode": {
    "name": "ipython",
    "version": 3
   },
   "file_extension": ".py",
   "mimetype": "text/x-python",
   "name": "python",
   "nbconvert_exporter": "python",
   "pygments_lexer": "ipython3",
   "version": "3.7.4"
  }
 },
 "nbformat": 4,
 "nbformat_minor": 2
}
